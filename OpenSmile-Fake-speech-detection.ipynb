{
 "cells": [
  {
   "cell_type": "code",
   "execution_count": 37,
   "id": "5f661c6c",
   "metadata": {},
   "outputs": [],
   "source": [
    "import glob\n",
    "#import librosa\n",
    "import os\n",
    "import sklearn.mixture\n",
    "import sys\n",
    "#import pysptk\n",
    "#import pyworld\n",
    "import opensmile\n",
    "import audiofile\n",
    "import time\n",
    "import numpy as np\n",
    "import pandas as pd"
   ]
  },
  {
   "cell_type": "code",
   "execution_count": 3,
   "id": "fc6b48cf",
   "metadata": {},
   "outputs": [],
   "source": [
    "from sklearn.svm import SVC\n",
    "from sklearn.preprocessing import StandardScaler\n",
    "from sklearn.datasets import make_classification\n",
    "from sklearn.model_selection import train_test_split\n",
    "from sklearn.pipeline import Pipeline\n",
    "from sklearn.svm import LinearSVC\n",
    "from sklearn.ensemble import RandomForestClassifier\n",
    "from sklearn.decomposition import PCA\n",
    "from sklearn.tree import DecisionTreeClassifier\n",
    "from sklearn.ensemble import ExtraTreesClassifier\n",
    "from sklearn.feature_selection import SelectFromModel\n",
    "from sklearn.metrics import accuracy_score\n",
    "from sklearn.metrics import classification_report\n",
    "from sklearn.manifold import TSNE\n",
    "from sklearn.svm import SVC\n",
    "from sklearn.linear_model import LogisticRegression"
   ]
  },
  {
   "cell_type": "markdown",
   "id": "2d1705bf",
   "metadata": {},
   "source": [
    "### Importing OpenSmile package"
   ]
  },
  {
   "cell_type": "code",
   "execution_count": 4,
   "id": "799ca22c",
   "metadata": {},
   "outputs": [],
   "source": [
    "smile = opensmile.Smile(\n",
    "    feature_set=opensmile.FeatureSet.eGeMAPSv02,\n",
    "    feature_level=opensmile.FeatureLevel.Functionals,\n",
    ")"
   ]
  },
  {
   "cell_type": "markdown",
   "id": "2162f3ab",
   "metadata": {},
   "source": [
    "### Extracting all the 88 features using open smile"
   ]
  },
  {
   "cell_type": "code",
   "execution_count": 5,
   "id": "452edae9",
   "metadata": {},
   "outputs": [],
   "source": [
    "class DataPrep:\n",
    "    def __init__(self, folderPath=None):\n",
    "\n",
    "        self.folderPath = folderPath\n",
    "        self.spk_files = os.listdir(self.folderPath)\n",
    "\n",
    "        self.file_features = np.zeros((1,88))\n",
    "        Y=[0]\n",
    "        \n",
    "        for spk_file in range(len(self.spk_files)):\n",
    "                \n",
    "            wav_path = os.path.join(self.folderPath,self.spk_files[spk_file])\n",
    "            #print(wav_path)\n",
    "\n",
    "            y = smile.process_file(wav_path)\n",
    "            #print(y)\n",
    "            file_feats = np.asarray(y)\n",
    "\n",
    "            self.file_features = np.concatenate((self.file_features, file_feats),axis=0)\n",
    "            label = self.folderPath\n",
    "            label=label[-8]\n",
    "            #print(label)\n",
    "            if label=='f':\n",
    "                l=0\n",
    "            else:\n",
    "                l=1\n",
    "                    \n",
    "\n",
    "            Y.append(l)\n",
    "            #print(Y)\n",
    "\n",
    "        self.file_features = self.file_features[1:,:]\n",
    "        #print(self.file_features)\n",
    "\n",
    "        self.labels=np.asarray(Y)\n",
    "        self.labels=self.labels.T\n",
    "        self.labels = self.labels[1:]\n",
    "        #print(self.labels) "
   ]
  },
  {
   "cell_type": "code",
   "execution_count": 6,
   "id": "d8456574",
   "metadata": {},
   "outputs": [],
   "source": [
    "Train_dataF = DataPrep(r'C:\\Users\\HP\\Desktop\\Dataset\\data\\251\\Train\\fake_slt')\n",
    "Train_dataO = DataPrep(r'C:\\Users\\HP\\Desktop\\Dataset\\data\\251\\Train\\orig_slt')\n",
    "\n",
    "Test_dataF = DataPrep(r'C:\\Users\\HP\\Desktop\\Dataset\\data\\251\\Test\\fake_slt')\n",
    "Test_dataO = DataPrep(r'C:\\Users\\HP\\Desktop\\Dataset\\data\\251\\Test\\orig_slt')"
   ]
  },
  {
   "cell_type": "markdown",
   "id": "4468365b",
   "metadata": {},
   "source": [
    "### Train Data"
   ]
  },
  {
   "cell_type": "code",
   "execution_count": 7,
   "id": "e6c2221b",
   "metadata": {},
   "outputs": [],
   "source": [
    "X_trainF=Train_dataF.file_features\n",
    "Y_trainF=Train_dataF.labels\n",
    "X_trainO=Train_dataO.file_features\n",
    "Y_trainO=Train_dataO.labels"
   ]
  },
  {
   "cell_type": "code",
   "execution_count": 8,
   "id": "4c3a86ca",
   "metadata": {},
   "outputs": [
    {
     "name": "stdout",
     "output_type": "stream",
     "text": [
      "(192, 88)\n",
      "(192, 88)\n",
      "(192,)\n",
      "(192,)\n"
     ]
    }
   ],
   "source": [
    "print(np.shape(X_trainF))\n",
    "print(np.shape(X_trainO))\n",
    "print(np.shape(Y_trainF))\n",
    "print(np.shape(Y_trainO))"
   ]
  },
  {
   "cell_type": "markdown",
   "id": "82004c1b",
   "metadata": {},
   "source": [
    "### Test data"
   ]
  },
  {
   "cell_type": "code",
   "execution_count": 9,
   "id": "378d8376",
   "metadata": {},
   "outputs": [],
   "source": [
    "X_testF=Test_dataF.file_features\n",
    "Y_testF=Test_dataF.labels\n",
    "X_testO=Test_dataO.file_features\n",
    "Y_testO=Test_dataO.labels"
   ]
  },
  {
   "cell_type": "code",
   "execution_count": 10,
   "id": "1eb1d06f",
   "metadata": {},
   "outputs": [
    {
     "name": "stdout",
     "output_type": "stream",
     "text": [
      "(21, 88)\n",
      "(21, 88)\n",
      "(21,)\n",
      "(21,)\n"
     ]
    }
   ],
   "source": [
    "print(np.shape(X_testF))\n",
    "print(np.shape(X_testO))\n",
    "print(np.shape(Y_testF))\n",
    "print(np.shape(Y_testO))"
   ]
  },
  {
   "cell_type": "markdown",
   "id": "20ed0ca0",
   "metadata": {},
   "source": [
    "### Concatanate Fake and Non-fake speech (Train)"
   ]
  },
  {
   "cell_type": "code",
   "execution_count": 11,
   "id": "4c36b073",
   "metadata": {},
   "outputs": [
    {
     "name": "stdout",
     "output_type": "stream",
     "text": [
      "(384, 88)\n",
      "(384,)\n"
     ]
    }
   ],
   "source": [
    "X=np.concatenate((X_trainF, X_trainO),axis=0)\n",
    "y=np.concatenate((Y_trainF, Y_trainO),axis=0)\n",
    "\n",
    "print(np.shape(X))\n",
    "print(np.shape(y))"
   ]
  },
  {
   "cell_type": "markdown",
   "id": "991c435f",
   "metadata": {},
   "source": [
    "##### This step of train-test split done to do shuffle the data. The splitted test from the train_test_split was not used for testing. Testing was done from the testing set seperated earlier only"
   ]
  },
  {
   "cell_type": "code",
   "execution_count": 12,
   "id": "8724e7dc",
   "metadata": {},
   "outputs": [],
   "source": [
    "X_train, X_test, y_train, y_test = train_test_split(X, y, test_size=0.001, shuffle=True, random_state=0)"
   ]
  },
  {
   "cell_type": "markdown",
   "id": "72872b1d",
   "metadata": {},
   "source": [
    "### Concatanate Fake and Non-fake speech (Test)"
   ]
  },
  {
   "cell_type": "code",
   "execution_count": 13,
   "id": "caa430e4",
   "metadata": {},
   "outputs": [
    {
     "name": "stdout",
     "output_type": "stream",
     "text": [
      "(42, 88)\n",
      "(42,)\n"
     ]
    }
   ],
   "source": [
    "X_test=np.concatenate((X_testF, X_testO),axis=0)\n",
    "y_test=np.concatenate((Y_testF, Y_testO),axis=0)\n",
    "\n",
    "print(np.shape(X_test))\n",
    "print(np.shape(y_test))"
   ]
  },
  {
   "cell_type": "markdown",
   "id": "100c6d24",
   "metadata": {},
   "source": [
    "##### Remove nan from train"
   ]
  },
  {
   "cell_type": "code",
   "execution_count": 14,
   "id": "e6fe8b6b",
   "metadata": {},
   "outputs": [],
   "source": [
    "X_train1=X_train[~np.isnan(X_train).any(axis=1)]\n",
    "nan_index=np.argwhere(np.isnan(X_train))\n",
    "\n",
    "removal_rows=np.unique(nan_index[:,0])\n",
    "y_train1=np.delete(y_train,removal_rows,axis=0)\n",
    "\n",
    "X_train=X_train1\n",
    "y_train=y_train1"
   ]
  },
  {
   "cell_type": "markdown",
   "id": "e91d6f20",
   "metadata": {},
   "source": [
    "##### Remove nan from test"
   ]
  },
  {
   "cell_type": "code",
   "execution_count": 15,
   "id": "ed83c8bf",
   "metadata": {},
   "outputs": [],
   "source": [
    "X_test1=X_test[~np.isnan(X_test).any(axis=1)]\n",
    "nan_index=np.argwhere(np.isnan(X_test))\n",
    "\n",
    "removal_rows=np.unique(nan_index[:,0])\n",
    "y_test1=np.delete(y_test,removal_rows,axis=0)\n",
    "\n",
    "X_test=X_test1\n",
    "y_test=y_test1"
   ]
  },
  {
   "cell_type": "code",
   "execution_count": 16,
   "id": "d505e0b6",
   "metadata": {},
   "outputs": [
    {
     "name": "stdout",
     "output_type": "stream",
     "text": [
      "0\n",
      "0\n"
     ]
    }
   ],
   "source": [
    "print(np.sum(np.isnan((X_train))))\n",
    "print(np.sum(np.isnan((X_test))))"
   ]
  },
  {
   "cell_type": "markdown",
   "id": "88ff3011",
   "metadata": {},
   "source": [
    "### Feature selection"
   ]
  },
  {
   "cell_type": "code",
   "execution_count": 17,
   "id": "ee6502bb",
   "metadata": {},
   "outputs": [],
   "source": [
    "etc=ExtraTreesClassifier(n_estimators=50)\n",
    "etc=etc.fit(X_train, y_train)"
   ]
  },
  {
   "cell_type": "markdown",
   "id": "23d4762b",
   "metadata": {},
   "source": [
    "#### Finding the threshold"
   ]
  },
  {
   "cell_type": "code",
   "execution_count": 18,
   "id": "a3bf3ce7",
   "metadata": {},
   "outputs": [
    {
     "data": {
      "text/plain": [
       "0.0030931833771285265"
      ]
     },
     "execution_count": 18,
     "metadata": {},
     "output_type": "execute_result"
    }
   ],
   "source": [
    "th=-np.sort(-etc.feature_importances_)[87]\n",
    "th"
   ]
  },
  {
   "cell_type": "markdown",
   "id": "147b8f43",
   "metadata": {},
   "source": [
    "#### Indexes of top n features"
   ]
  },
  {
   "cell_type": "code",
   "execution_count": 19,
   "id": "b36821f4",
   "metadata": {},
   "outputs": [
    {
     "data": {
      "text/plain": [
       "array([ 0,  1,  2,  3,  4,  5,  6,  7,  8,  9, 10, 11, 12, 13, 14, 15, 16,\n",
       "       17, 18, 19, 20, 21, 22, 23, 24, 25, 26, 27, 28, 29, 30, 31, 32, 33,\n",
       "       34, 35, 36, 37, 38, 39, 40, 41, 42, 43, 44, 45, 46, 47, 48, 49, 50,\n",
       "       51, 52, 53, 54, 55, 56, 57, 58, 59, 60, 61, 62, 63, 64, 65, 66, 67,\n",
       "       68, 69, 70, 71, 72, 73, 74, 75, 76, 77, 78, 79, 80, 81, 82, 83, 84,\n",
       "       85, 86])"
      ]
     },
     "execution_count": 19,
     "metadata": {},
     "output_type": "execute_result"
    }
   ],
   "source": [
    "res = [idx for idx, val in enumerate(etc.feature_importances_) if val > th]\n",
    "res=np.asarray(res)\n",
    "res.T"
   ]
  },
  {
   "cell_type": "markdown",
   "id": "e5b1654c",
   "metadata": {},
   "source": [
    "#### Picking the features according to the selected index"
   ]
  },
  {
   "cell_type": "code",
   "execution_count": 20,
   "id": "bbed548f",
   "metadata": {},
   "outputs": [
    {
     "name": "stderr",
     "output_type": "stream",
     "text": [
      "C:\\Python310\\lib\\site-packages\\sklearn\\manifold\\_t_sne.py:780: FutureWarning: The default initialization in TSNE will change from 'random' to 'pca' in 1.2.\n",
      "  warnings.warn(\n",
      "C:\\Python310\\lib\\site-packages\\sklearn\\manifold\\_t_sne.py:790: FutureWarning: The default learning rate in TSNE will change from 200.0 to 'auto' in 1.2.\n",
      "  warnings.warn(\n",
      "C:\\Python310\\lib\\site-packages\\sklearn\\manifold\\_t_sne.py:780: FutureWarning: The default initialization in TSNE will change from 'random' to 'pca' in 1.2.\n",
      "  warnings.warn(\n",
      "C:\\Python310\\lib\\site-packages\\sklearn\\manifold\\_t_sne.py:790: FutureWarning: The default learning rate in TSNE will change from 200.0 to 'auto' in 1.2.\n",
      "  warnings.warn(\n"
     ]
    },
    {
     "data": {
      "image/png": "[encoded data removed]",
      "text/plain": [
       "<Figure size 432x288 with 1 Axes>"
      ]
     },
     "metadata": {
      "needs_background": "light"
     },
     "output_type": "display_data"
    }
   ],
   "source": [
    "#res = [11,12,21,44,62,56]\n",
    "import matplotlib.pyplot as plt\n",
    "import numpy as np\n",
    "from sklearn.decomposition import PCA\n",
    "X_train_new=(X_train[:,res])\n",
    "X_test_new=X_test[:,res]\n",
    "# x_fake = X_trainF\n",
    "# x_real = X_trainO\n",
    "x_fake = X_trainF[:,res]\n",
    "x_real = X_trainO[:,res]\n",
    "tsne = TSNE(n_components=2,perplexity=30,random_state=42)\n",
    "x_tsne_fake = tsne.fit_transform(x_fake)\n",
    "x_tsne_real = tsne.fit_transform(x_real)\n",
    "plt.title(\"TSNE plot for LibreTTS-251 dataset\")\n",
    "plt.scatter(x_tsne_fake[:,0],x_tsne_fake[:,1],label=\"Fake\",c=\"r\")\n",
    "plt.scatter(x_tsne_real[:,0],x_tsne_real[:,1],label=\"Real\",c=\"b\")\n",
    "plt.legend()\n",
    "plt.show()\n",
    "\n"
   ]
  },
  {
   "cell_type": "code",
   "execution_count": 21,
   "id": "e330a161",
   "metadata": {},
   "outputs": [
    {
     "name": "stdout",
     "output_type": "stream",
     "text": [
      "(383, 87)\n",
      "(42, 87)\n"
     ]
    }
   ],
   "source": [
    "print(np.shape(X_train_new))\n",
    "print(np.shape(X_test_new))"
   ]
  },
  {
   "cell_type": "markdown",
   "id": "193b5358",
   "metadata": {},
   "source": [
    "### Random Forest"
   ]
  },
  {
   "cell_type": "code",
   "execution_count": 22,
   "id": "0c6e30cd",
   "metadata": {},
   "outputs": [
    {
     "name": "stdout",
     "output_type": "stream",
     "text": [
      "[Pipeline] ............... (step 1 of 2) Processing std, total=   0.0s\n",
      "[Pipeline] ..... (step 2 of 2) Processing Random_forest, total=   0.3s\n",
      "0.8809523809523809\n"
     ]
    }
   ],
   "source": [
    "pipe1 = Pipeline([ ('std', StandardScaler()), ('Random_forest', RandomForestClassifier(n_estimators = 100))], verbose = True)\n",
    " \n",
    "# fitting the data in the pipe\n",
    "pipe1.fit(X_train_new, y_train)\n",
    " \n",
    "# scoring data\n",
    "print(accuracy_score(y_test, pipe1.predict(X_test_new)))\n",
    "# prob_score1_1=pipe1.predict_proba(X_test_new)[:,1]\n",
    "# prob_score1_0=pipe1.predict_proba(X_test_new)[:,0]\n",
    "# print(prob_score1_1)\n",
    "# print(prob_score1_0)\n",
    "prob_score_RF=pipe1.predict_proba(X_test_new)\n",
    "#print(prob_score_RF)\n"
   ]
  },
  {
   "cell_type": "markdown",
   "id": "d6f5fccc",
   "metadata": {},
   "source": [
    "#### Confusion Matrix"
   ]
  },
  {
   "cell_type": "code",
   "execution_count": 23,
   "id": "c6ba6a63",
   "metadata": {},
   "outputs": [
    {
     "name": "stdout",
     "output_type": "stream",
     "text": [
      "[[21  0]\n",
      " [ 5 16]]\n"
     ]
    }
   ],
   "source": [
    "print(sklearn.metrics.confusion_matrix(y_test, pipe1.predict(X_test_new)))"
   ]
  },
  {
   "cell_type": "markdown",
   "id": "787e36fc",
   "metadata": {},
   "source": [
    "### Decision tree"
   ]
  },
  {
   "cell_type": "code",
   "execution_count": 24,
   "id": "e822fde2",
   "metadata": {},
   "outputs": [
    {
     "name": "stdout",
     "output_type": "stream",
     "text": [
      "[Pipeline] ............... (step 1 of 2) Processing std, total=   0.0s\n",
      "[Pipeline] ..... (step 2 of 2) Processing decision_tree, total=   0.0s\n",
      "0.8571428571428571\n"
     ]
    }
   ],
   "source": [
    "pipe2 = Pipeline([ ('std', StandardScaler()), ('decision_tree', DecisionTreeClassifier())], verbose = True)\n",
    " \n",
    "# fitting the data in the pipe\n",
    "pipe2.fit(X_train_new, y_train)\n",
    " \n",
    "# scoring data\n",
    "print(accuracy_score(y_test, pipe2.predict(X_test_new)))\n",
    "prob_score_DT=pipe2.predict_proba(X_test_new)\n",
    "# print(prob_score_DT)"
   ]
  },
  {
   "cell_type": "markdown",
   "id": "16f6c5d2",
   "metadata": {},
   "source": [
    "#### Confusion Matrix"
   ]
  },
  {
   "cell_type": "code",
   "execution_count": 25,
   "id": "0ac37fdd",
   "metadata": {},
   "outputs": [
    {
     "name": "stdout",
     "output_type": "stream",
     "text": [
      "[[21  0]\n",
      " [ 6 15]]\n"
     ]
    }
   ],
   "source": [
    "print(sklearn.metrics.confusion_matrix(y_test, pipe2.predict(X_test_new)))"
   ]
  },
  {
   "cell_type": "markdown",
   "id": "d55092cd",
   "metadata": {},
   "source": [
    "### SVM"
   ]
  },
  {
   "cell_type": "code",
   "execution_count": 26,
   "id": "c70bf876",
   "metadata": {},
   "outputs": [
    {
     "name": "stdout",
     "output_type": "stream",
     "text": [
      "[Pipeline] ............... (step 1 of 2) Processing std, total=   0.0s\n",
      "[Pipeline] ............... (step 2 of 2) Processing SVM, total=   0.0s\n",
      "1.0\n",
      "              precision    recall  f1-score   support\n",
      "\n",
      "           0       1.00      1.00      1.00        21\n",
      "           1       1.00      1.00      1.00        21\n",
      "\n",
      "    accuracy                           1.00        42\n",
      "   macro avg       1.00      1.00      1.00        42\n",
      "weighted avg       1.00      1.00      1.00        42\n",
      "\n"
     ]
    }
   ],
   "source": [
    "pipe4 = Pipeline([ ('std', StandardScaler()), ('SVM', SVC(kernel='linear',probability=True) )], verbose = True)\n",
    " \n",
    "# fitting the data in the pipe\n",
    "pipe4.fit(X_train_new, y_train)\n",
    "# model = SVC()\n",
    "# scaler = StandardScaler()\n",
    "# X_train_new = scaler.fit_transform(X_train_new)\n",
    "# model.fit(X_train_new,y_train)\n",
    "# model.score(X_train_new,y_train)\n",
    "\n",
    "# scoring data\n",
    "print(accuracy_score(y_test, pipe4.predict(X_test_new)))\n",
    "prob_score_SVM=pipe4.predict_proba(X_test_new)\n",
    "print(classification_report(y_test,pipe4.predict(X_test_new)))\n",
    "# print(prob_score_SVM)"
   ]
  },
  {
   "cell_type": "markdown",
   "id": "08bc05cb",
   "metadata": {},
   "source": [
    "#### Confusion matrix"
   ]
  },
  {
   "cell_type": "code",
   "execution_count": 27,
   "id": "1f0ad333",
   "metadata": {},
   "outputs": [
    {
     "name": "stdout",
     "output_type": "stream",
     "text": [
      "[[21  0]\n",
      " [ 0 21]]\n"
     ]
    }
   ],
   "source": [
    "print(sklearn.metrics.confusion_matrix(y_test, pipe4.predict(X_test_new)))"
   ]
  },
  {
   "cell_type": "markdown",
   "id": "1e3418e9",
   "metadata": {},
   "source": [
    "### Logistic regression"
   ]
  },
  {
   "cell_type": "code",
   "execution_count": 28,
   "id": "19ca2ce6",
   "metadata": {},
   "outputs": [
    {
     "name": "stdout",
     "output_type": "stream",
     "text": [
      "[Pipeline] ............... (step 1 of 2) Processing std, total=   0.0s\n",
      "[Pipeline]  (step 2 of 2) Processing Logistic_Regression, total=   0.0s\n",
      "1.0\n"
     ]
    }
   ],
   "source": [
    "pipe5 = Pipeline([ ('std', StandardScaler()), ('Logistic_Regression', LogisticRegression(random_state = 0) )], verbose = True)\n",
    " \n",
    "# fitting the data in the pipe\n",
    "pipe5.fit(X_train_new, y_train)\n",
    "\n",
    "# scoring data\n",
    "print(accuracy_score(y_test, pipe5.predict(X_test_new)))\n",
    "prob_score_LR=pipe5.predict_proba(X_test_new)\n",
    "# print(prob_score_LR)"
   ]
  },
  {
   "cell_type": "code",
   "execution_count": 29,
   "id": "09faf51a",
   "metadata": {},
   "outputs": [
    {
     "name": "stdout",
     "output_type": "stream",
     "text": [
      "[[21  0]\n",
      " [ 0 21]]\n"
     ]
    }
   ],
   "source": [
    "print(sklearn.metrics.confusion_matrix(y_test, pipe5.predict(X_test_new)))"
   ]
  },
  {
   "cell_type": "markdown",
   "id": "d5729284",
   "metadata": {},
   "source": [
    "### Probability Score Combination"
   ]
  },
  {
   "cell_type": "code",
   "execution_count": 30,
   "id": "2edb8e35",
   "metadata": {},
   "outputs": [],
   "source": [
    "from xlwt import Workbook\n",
    "wb = Workbook()\n",
    "sheet1 = wb.add_sheet('Sheet 1')\n",
    "value = 10\n",
    "count = 0\n",
    "for a in range(value+1):\n",
    "    for b in range(value+1):\n",
    "        for c in range(value+1):\n",
    "            for d in range(value+1):\n",
    "                if (a+b+c+d) == value:\n",
    "                    prob_score = []\n",
    "                    y_pred = []\n",
    "                    for i in range(42):\n",
    "                        score_0 = (a*prob_score_RF[i][0])+(b*prob_score_DT[i][0])+(c*prob_score_SVM[i][0])+(d*prob_score_LR[i][0])\n",
    "                        score_1 = (a*prob_score_RF[i][1])+(b*prob_score_DT[i][1])+(c*prob_score_SVM[i][1])+(d*prob_score_LR[i][1])\n",
    "                        score = [score_0*(1/value),score_1*(1/value)]\n",
    "                        prob_score.append(score)\n",
    "                        if score_0 > score_1:\n",
    "                            y_pred.append(0)\n",
    "                        else:\n",
    "                            y_pred.append(1)\n",
    "                    #print(classification_report(y_test,y_pred))\n",
    "                    sheet1.write(count+1,0,a/value)\n",
    "                    sheet1.write(count+1,1,b/value)\n",
    "                    sheet1.write(count+1,2,c/value)\n",
    "                    sheet1.write(count+1,3,d/value)\n",
    "                    sheet1.write(count+1,4,accuracy_score(y_test,y_pred))\n",
    "                    count = count + 1\n",
    "wb.save(\"c_251_84.xls\")\n",
    "\n",
    "\n",
    "                    "
   ]
  },
  {
   "cell_type": "markdown",
   "metadata": {},
   "source": [
    "### Build graph for SVM for individual feature"
   ]
  },
  {
   "cell_type": "code",
   "execution_count": 36,
   "id": "3e7bd1cc",
   "metadata": {},
   "outputs": [
    {
     "name": "stdout",
     "output_type": "stream",
     "text": [
      "[Pipeline] ............... (step 1 of 2) Processing std, total=   0.0s\n",
      "[Pipeline] ..... (step 2 of 2) Processing Random_forest, total=   0.2s\n",
      "[Pipeline] ............... (step 1 of 2) Processing std, total=   0.0s\n",
      "[Pipeline] ..... (step 2 of 2) Processing Random_forest, total=   0.2s\n",
      "[Pipeline] ............... (step 1 of 2) Processing std, total=   0.0s\n",
      "[Pipeline] ..... (step 2 of 2) Processing Random_forest, total=   0.1s\n",
      "[Pipeline] ............... (step 1 of 2) Processing std, total=   0.0s\n",
      "[Pipeline] ..... (step 2 of 2) Processing Random_forest, total=   0.2s\n",
      "[Pipeline] ............... (step 1 of 2) Processing std, total=   0.0s\n",
      "[Pipeline] ..... (step 2 of 2) Processing Random_forest, total=   0.1s\n",
      "[Pipeline] ............... (step 1 of 2) Processing std, total=   0.0s\n",
      "[Pipeline] ..... (step 2 of 2) Processing Random_forest, total=   0.2s\n",
      "[Pipeline] ............... (step 1 of 2) Processing std, total=   0.0s\n",
      "[Pipeline] ..... (step 2 of 2) Processing Random_forest, total=   0.2s\n",
      "[Pipeline] ............... (step 1 of 2) Processing std, total=   0.0s\n",
      "[Pipeline] ..... (step 2 of 2) Processing Random_forest, total=   0.1s\n",
      "[Pipeline] ............... (step 1 of 2) Processing std, total=   0.0s\n",
      "[Pipeline] ..... (step 2 of 2) Processing Random_forest, total=   0.1s\n",
      "[Pipeline] ............... (step 1 of 2) Processing std, total=   0.0s\n",
      "[Pipeline] ..... (step 2 of 2) Processing Random_forest, total=   0.1s\n"
     ]
    },
    {
     "data": {
      "image/png": "[encoded data removed]",
      "text/plain": [
       "<Figure size 1080x504 with 1 Axes>"
      ]
     },
     "metadata": {
      "needs_background": "light"
     },
     "output_type": "display_data"
    }
   ],
   "source": [
    "import matplotlib.pyplot as plt\n",
    "X_axis = ['11', '12', '21', '44', '62', '56', '32', '63', '76', '78']\n",
    "Y_axis = []\n",
    "\n",
    "pipe10 = Pipeline([ ('std', StandardScaler()), ('Random_forest', RandomForestClassifier(n_estimators = 100))], verbose = True)\n",
    "features = [11, 12, 21, 44, 62, 56, 32, 63, 76, 78]\n",
    "for i in features:\n",
    "    X_new = X_train[:,[i]]\n",
    "    pipe10.fit(X_new, y_train)\n",
    "    X_t_new = X_test[:,[i]]\n",
    "    Y_axis.append(accuracy_score(y_test, pipe10.predict(X_t_new)))\n",
    "\n",
    "f = plt.figure()\n",
    "f.set_figwidth(15)\n",
    "f.set_figheight(7)\n",
    "plt.title(\"LibreTTS-251 (Random Forest)\",fontdict={'fontsize': 25})\n",
    "plt.xlabel(\"Features\",fontdict={'fontsize': 20})\n",
    "plt.ylabel(\"Accuracy\",fontdict={'fontsize': 20})\n",
    "plt.bar(X_axis,Y_axis,color=[ 'red', 'green', 'blue', 'orange','purple'])\n",
    "plt.tick_params(axis='x', labelsize=20)\n",
    "plt.tick_params(axis='y', labelsize=20)\n",
    "plt.show()"
   ]
  }
 ],
 "metadata": {
  "kernelspec": {
   "display_name": "Python 3 (ipykernel)",
   "language": "python",
   "name": "python3"
  },
  "language_info": {
   "codemirror_mode": {
    "name": "ipython",
    "version": 3
   },
   "file_extension": ".py",
   "mimetype": "text/x-python",
   "name": "python",
   "nbconvert_exporter": "python",
   "pygments_lexer": "ipython3",
   "version": "3.10.1"
  }
 },
 "nbformat": 4,
 "nbformat_minor": 5
}
